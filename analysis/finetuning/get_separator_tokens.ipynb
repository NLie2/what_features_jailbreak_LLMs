{
 "cells": [
  {
   "cell_type": "code",
   "execution_count": 6,
   "metadata": {},
   "outputs": [],
   "source": [
    "model_to_special_token = {\n",
    "        \"meta-llama/Llama-3.2-3B-Instruct\": \"<|finetune_right_pad_id|>\", # 128004,\n",
    "        \"google/gemma-7b-it\": 10,\n",
    "        \"mistralai/Ministral-8B-Instruct-2410\": 20,\n",
    "        \"meta-llama/Llama-3.1-8B-Instruct\": 128002\n",
    "    }\n",
    "\n",
    "model_id = \"meta-llama/Llama-3.1-8B-Instruct\""
   ]
  },
  {
   "cell_type": "code",
   "execution_count": 7,
   "metadata": {},
   "outputs": [],
   "source": [
    "from transformers import AutoTokenizer\n",
    "\n",
    "tokenizer = AutoTokenizer.from_pretrained(model_id)\n",
    "sep_tok_id = model_to_special_token[model_id]"
   ]
  },
  {
   "cell_type": "code",
   "execution_count": 8,
   "metadata": {},
   "outputs": [],
   "source": [
    "def get_separator_ids_automatic(tokenizer, sep_tok_id=None):\n",
    "    if sep_tok_id is None:\n",
    "        if tokenizer.unk_token_id is not None:\n",
    "            sep_tok_id = tokenizer.unk_token_id\n",
    "        else:\n",
    "            sep_tok_id = 128002 # for Llama 3.1\n",
    "\n",
    "    sep_tok_str = tokenizer.decode(sep_tok_id)\n",
    "\n",
    "    messages = [\n",
    "                {\"role\": \"user\", \"content\": sep_tok_str}, \n",
    "                {\"role\": \"assistant\", \"content\": sep_tok_str}\n",
    "    ]\n",
    "\n",
    "    base_ids = tokenizer.apply_chat_template(\n",
    "        messages,\n",
    "        tokenize=True,\n",
    "        add_generation_prompt=False\n",
    "    )\n",
    "\n",
    "    # Split base_ids at sep_tok_id occurrences\n",
    "    split_indices = [i for i, token in enumerate(base_ids) if token == sep_tok_id]\n",
    "    assert len(split_indices) == 2, f\"Expected 2 occurrences of sep_tok_id but found {len(split_indices)}. Please look at the hf tokenizer_config.json file to find a better separator token than {sep_tok_id}\"\n",
    "    \n",
    "    # Get IDs between the two separators (excluding separators)\n",
    "    ids_between = base_ids[split_indices[0]+1:split_indices[1]]\n",
    "    return ids_between\n",
    "\n",
    "\n",
    "separator_ids = get_separator_ids_automatic(tokenizer, sep_tok_id)"
   ]
  },
  {
   "cell_type": "code",
   "execution_count": 9,
   "metadata": {},
   "outputs": [
    {
     "data": {
      "text/plain": [
       "[128009, 128006, 78191, 128007, 271]"
      ]
     },
     "execution_count": 9,
     "metadata": {},
     "output_type": "execute_result"
    }
   ],
   "source": [
    "separator_ids"
   ]
  },
  {
   "cell_type": "code",
   "execution_count": 10,
   "metadata": {},
   "outputs": [
    {
     "data": {
      "text/plain": [
       "'<|eot_id|><|start_header_id|>assistant<|end_header_id|>\\n\\n'"
      ]
     },
     "execution_count": 10,
     "metadata": {},
     "output_type": "execute_result"
    }
   ],
   "source": [
    "tokenizer.decode(separator_ids)"
   ]
  },
  {
   "cell_type": "code",
   "execution_count": null,
   "metadata": {},
   "outputs": [],
   "source": []
  }
 ],
 "metadata": {
  "kernelspec": {
   "display_name": "haize",
   "language": "python",
   "name": "python3"
  },
  "language_info": {
   "codemirror_mode": {
    "name": "ipython",
    "version": 3
   },
   "file_extension": ".py",
   "mimetype": "text/x-python",
   "name": "python",
   "nbconvert_exporter": "python",
   "pygments_lexer": "ipython3",
   "version": "3.12.6"
  }
 },
 "nbformat": 4,
 "nbformat_minor": 2
}
