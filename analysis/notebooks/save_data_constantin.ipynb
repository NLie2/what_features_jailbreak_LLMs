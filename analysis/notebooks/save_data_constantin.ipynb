{
 "cells": [
  {
   "cell_type": "code",
   "execution_count": 1,
   "metadata": {},
   "outputs": [],
   "source": [
    "import pandas as pd\n",
    "import sys\n",
    "from pathlib import Path\n",
    "import os\n",
    "import numpy as np\n",
    "from sklearn.utils import resample\n",
    "from sklearn.metrics import accuracy_score\n",
    "import pickle"
   ]
  },
  {
   "cell_type": "code",
   "execution_count": 2,
   "metadata": {},
   "outputs": [
    {
     "ename": "NameError",
     "evalue": "name 'project_root' is not defined",
     "output_type": "error",
     "traceback": [
      "\u001b[0;31m---------------------------------------------------------------------------\u001b[0m",
      "\u001b[0;31mNameError\u001b[0m                                 Traceback (most recent call last)",
      "Cell \u001b[0;32mIn[2], line 7\u001b[0m\n\u001b[1;32m      2\u001b[0m notebook_dir \u001b[38;5;241m=\u001b[39m Path\u001b[38;5;241m.\u001b[39mcwd()\n\u001b[1;32m      4\u001b[0m \u001b[38;5;66;03m# Move up to the root directory (parent of 'notebooks')\u001b[39;00m\n\u001b[1;32m      5\u001b[0m \u001b[38;5;66;03m# project_root = notebook_dir.parent.parent\u001b[39;00m\n\u001b[1;32m      6\u001b[0m \u001b[38;5;66;03m# project_root = notebook_dir\u001b[39;00m\n\u001b[0;32m----> 7\u001b[0m os\u001b[38;5;241m.\u001b[39mchdir(\u001b[43mproject_root\u001b[49m)\n",
      "\u001b[0;31mNameError\u001b[0m: name 'project_root' is not defined"
     ]
    }
   ],
   "source": [
    "# Get the current working directory (where the notebook is)\n",
    "notebook_dir = Path.cwd()\n",
    "\n",
    "# Move up to the root directory (parent of 'notebooks')\n",
    "# project_root = notebook_dir.parent.parent\n",
    "# project_root = notebook_dir\n",
    "os.chdir(project_root)\n"
   ]
  },
  {
   "cell_type": "code",
   "execution_count": null,
   "metadata": {},
   "outputs": [],
   "source": [
    "from analysis.supervised import *\n",
    "from analysis.models import * "
   ]
  },
  {
   "cell_type": "markdown",
   "metadata": {},
   "source": [
    "## Load data"
   ]
  },
  {
   "cell_type": "code",
   "execution_count": null,
   "metadata": {},
   "outputs": [],
   "source": [
    "wei_llama_3bit = project_root / \"datasets/_meta-llamaLlama-3.2-3B-Instruct_prompt_res_activations_3011202404:14:34_rated.pkl\"\n",
    "\n",
    "# path = [wild_jailbreak_path, wei_gemma7bit, wei_llama8bit, wei_llama_3bit, wei_mistral8bit][1]\n",
    "\n",
    "path = [wei_llama_3bit][0]\n",
    "\n",
    "df = pd.read_pickle(path)\n",
    "\n",
    "path = str(path)"
   ]
  },
  {
   "cell_type": "code",
   "execution_count": null,
   "metadata": {},
   "outputs": [],
   "source": [
    "model_name, num_layers, rating_column, hf_ident, input_size = get_model_details(path)\n",
    "\n",
    "layer= num_layers - 4\n",
    "\n",
    "# layer = 17\n",
    "activation_column=\"prompt_res_activations\"\n",
    "num_samples = len(df)\n",
    "dataset_name = \"wildJailBreak\" if \"wildJailBreak\" in str(path) else \"wei_dataset\"\n",
    "\n",
    "df[\"rating_binary\"] = df[rating_column].apply(lambda x: 0 if x == \"No\" else 1)\n",
    "df = df[~df[\"jailbreak_prompt_name\"].isin([\"auto_payload_splitting\", \"auto_obfuscation\", \"dev_mode_with_rant\", \"gcg\", \"autodan\"])]\n",
    "df[\"jailbreak_prompt_name\"].value_counts()\n",
    "#shuffle and balance dataset\n",
    "df = df.sample(frac=1).reset_index(drop=True)\n",
    "\n",
    "df = balance_dataset(df, \"rating_binary\")\n",
    "df[\"rating_binary\"].value_counts()"
   ]
  },
  {
   "cell_type": "code",
   "execution_count": null,
   "metadata": {},
   "outputs": [],
   "source": []
  },
  {
   "cell_type": "code",
   "execution_count": null,
   "metadata": {},
   "outputs": [],
   "source": [
    "# Save tensors\n",
    "def save_data_and_labels(df, layers, filepath):\n",
    "    \"\"\"\n",
    "    Prepare data by extracting features, melting the dataframe, and splitting into train/val sets.\n",
    "    \n",
    "    Args:\n",
    "        df (pd.DataFrame): Input DataFrame containing the data\n",
    "        layers (list): List of layers to extract features from\n",
    "        exclude_prompts (list, optional): List of prompt names to exclude. Defaults to specified prompts.\n",
    "    \n",
    "    Returns:\n",
    "        tuple: (train_data, train_labels, val_data, val_labels) as tensors\n",
    "    \"\"\"\n",
    "    # Extract features for each layer\n",
    "    for layer in layers:\n",
    "        df[f'layer_{layer}'] = df.apply(lambda row: extract_layer(row, layer), axis=1)\n",
    "    \n",
    "    # Melt the DataFrame\n",
    "    melted_df = pd.melt(\n",
    "        df,\n",
    "        id_vars=[\"jailbreak_prompt_name\", \"rating_binary\"],\n",
    "        value_vars=[f'layer_{layer}' for layer in layers],\n",
    "        var_name=\"layer\",\n",
    "        value_name=\"features\"\n",
    "    )\n",
    "        \n",
    "    # Prepare labels and data\n",
    "    labels = melted_df[\"rating_binary\"].to_list()\n",
    "    data = melted_df[\"features\"].to_list()\n",
    "    \n",
    "    # Convert to tensors\n",
    "    data_tensor = torch.tensor(np.stack(data), dtype=torch.float32)\n",
    "    labels_tensor = torch.tensor(labels, dtype=torch.long)\n",
    "\n",
    "    dataset_dict = {\n",
    "            'data': data_tensor,\n",
    "            'labels': labels_tensor\n",
    "        }\n",
    "    torch.save(dataset_dict, filepath)\n",
    "\n",
    "\n",
    "    tensor_cols = ['prompt_res_activations'] + [col for col in df.columns if col.startswith('layer_')]\n",
    "    melted_df_no_tensors = melted_df.drop(tensor_cols, axis=1)\n",
    "    melted_df_no_tensors.to_csv(filepath.replace(\".pt\", \".csv\"), index=True)\n",
    "\n",
    "filepath = f\"datasets/{path}_tensors.pt\"\n",
    "layers = range(0, num_layers)\n",
    "save_data_and_labels(df, layers, filepath)"
   ]
  },
  {
   "cell_type": "code",
   "execution_count": null,
   "metadata": {},
   "outputs": [],
   "source": [
    "# Test if your tensor saving worked\n",
    "\n",
    "# Load the saved tensor data\n",
    "loaded_data = torch.load(filepath)\n",
    "\n",
    "# Extract data and labels from the loaded dictionary\n",
    "data_tensor = loaded_data['data']\n",
    "labels_tensor = loaded_data['labels']\n",
    "\n",
    "# Print shapes to verify the loading\n",
    "print(f\"Data tensor shape: {data_tensor.shape}\")\n",
    "print(f\"Labels tensor shape: {labels_tensor.shape}\")"
   ]
  },
  {
   "cell_type": "code",
   "execution_count": null,
   "metadata": {},
   "outputs": [],
   "source": [
    "# Load the saved CSV data\n",
    "csv_filepath = filepath.replace(\".pt\", \".csv\")\n",
    "df_loaded = pd.read_csv(csv_filepath, index_col=0)\n",
    "\n",
    "# Print info to verify loading\n",
    "print(\"\\nLoaded CSV info:\")\n",
    "print(df_loaded.info())\n",
    "\n"
   ]
  },
  {
   "cell_type": "code",
   "execution_count": null,
   "metadata": {},
   "outputs": [],
   "source": []
  }
 ],
 "metadata": {
  "kernelspec": {
   "display_name": "haize",
   "language": "python",
   "name": "python3"
  },
  "language_info": {
   "codemirror_mode": {
    "name": "ipython",
    "version": 3
   },
   "file_extension": ".py",
   "mimetype": "text/x-python",
   "name": "python",
   "nbconvert_exporter": "python",
   "pygments_lexer": "ipython3",
   "version": "3.11.10"
  }
 },
 "nbformat": 4,
 "nbformat_minor": 2
}
